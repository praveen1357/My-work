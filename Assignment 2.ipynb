{
 "cells": [
  {
   "cell_type": "code",
   "execution_count": 2,
   "metadata": {},
   "outputs": [
    {
     "data": {
      "text/plain": [
       "73"
      ]
     },
     "execution_count": 2,
     "metadata": {},
     "output_type": "execute_result"
    }
   ],
   "source": [
    "#1.1\n",
    "from functools import reduce\n",
    "lst=[2,5,45,62,73,35,28,22]\n",
    "reduce(lambda a,b : a if a > b else b,lst)"
   ]
  },
  {
   "cell_type": "code",
   "execution_count": 3,
   "metadata": {},
   "outputs": [
    {
     "name": "stdout",
     "output_type": "stream",
     "text": [
      "60\n",
      "83\n",
      "73\n",
      "66\n",
      "62\n",
      "98\n",
      "85\n",
      "61\n",
      "69\n"
     ]
    }
   ],
   "source": [
    "#1.2\n",
    "marks=[45,58,60,83,73,66,62,98,85,45,25,30,52,53,61,69]\n",
    "def mymarks(x):\n",
    "    if x < 60:\n",
    "        return False\n",
    "    else:\n",
    "        return True\n",
    "Sem=filter(mymarks,marks)\n",
    "for x in Sem:\n",
    "    print(x)"
   ]
  },
  {
   "cell_type": "code",
   "execution_count": 4,
   "metadata": {},
   "outputs": [
    {
     "name": "stdout",
     "output_type": "stream",
     "text": [
      "['A', 'C', 'A', 'D', 'G', 'I', 'L', 'D']\n"
     ]
    }
   ],
   "source": [
    "#2\n",
    "word=\"ACADGILD\"\n",
    "List=[alphabet for alphabet in word]\n",
    "print(str(List))"
   ]
  },
  {
   "cell_type": "code",
   "execution_count": 5,
   "metadata": {},
   "outputs": [
    {
     "name": "stdout",
     "output_type": "stream",
     "text": [
      "['x', 'xx', 'xxx', 'xxxx', 'y', 'yy', 'yyy', 'yyyy', 'z', 'zz', 'zzz', 'zzzz']\n"
     ]
    }
   ],
   "source": [
    "List_1 = ['x','y','z']\n",
    "result = [ alpha*n for alpha in List_1 for n in range(1,5)  ]\n",
    "print(str(result))"
   ]
  },
  {
   "cell_type": "code",
   "execution_count": 6,
   "metadata": {},
   "outputs": [
    {
     "name": "stdout",
     "output_type": "stream",
     "text": [
      "['x', 'y', 'z', 'xx', 'yy', 'zz', 'xxx', 'yyy', 'zzz', 'xxxx', 'yyyy', 'zzzz']\n"
     ]
    }
   ],
   "source": [
    "List_1 = ['x','y','z']\n",
    "result = [ alpha*n for n in range (1,5) for alpha in List_1  ]\n",
    "print(str(result))"
   ]
  },
  {
   "cell_type": "code",
   "execution_count": 7,
   "metadata": {},
   "outputs": [
    {
     "name": "stdout",
     "output_type": "stream",
     "text": [
      "[[2], [3], [4], [3], [4], [5], [4], [5], [6]]\n"
     ]
    }
   ],
   "source": [
    "List_2 = [2,3,4]\n",
    "result = [ [num+n] for num in List_2 for n in range(0,3)]\n",
    "print(str(result))"
   ]
  },
  {
   "cell_type": "code",
   "execution_count": 9,
   "metadata": {},
   "outputs": [
    {
     "name": "stdout",
     "output_type": "stream",
     "text": [
      "[[2, 3, 4, 5], [3, 4, 5, 6], [4, 5, 6, 7], [5, 6, 7, 8]]\n"
     ]
    }
   ],
   "source": [
    "List_3 = [2,3,4,5]\n",
    "result = [ [num+n for num in List_3] for n in range(0,4)]\n",
    "print(str(result))"
   ]
  },
  {
   "cell_type": "code",
   "execution_count": 11,
   "metadata": {},
   "outputs": [
    {
     "name": "stdout",
     "output_type": "stream",
     "text": [
      "[(1, 1), (2, 1), (3, 1), (1, 2), (2, 2), (3, 2), (1, 3), (2, 3), (3, 3)]\n"
     ]
    }
   ],
   "source": [
    "List_4 = [1,2,3]\n",
    "result = [ (b,a) for a in List_4 for b in List_4]\n",
    "print(str(result))"
   ]
  },
  {
   "cell_type": "code",
   "execution_count": 1,
   "metadata": {},
   "outputs": [],
   "source": [
    "#3\n",
    "def longest_word(word):\n",
    "    word_len=[]\n",
    "    for n in word:\n",
    "        word_len.append((len(n),n))\n",
    "        word_len.sort()\n",
    "        return word_len[-1][1]"
   ]
  },
  {
   "cell_type": "code",
   "execution_count": 3,
   "metadata": {},
   "outputs": [
    {
     "name": "stdout",
     "output_type": "stream",
     "text": [
      "Nation\n"
     ]
    }
   ],
   "source": [
    "print (longest_word([\"Nation\",\"Modi\",\"People\"]))"
   ]
  },
  {
   "cell_type": "code",
   "execution_count": 4,
   "metadata": {},
   "outputs": [
    {
     "name": "stdout",
     "output_type": "stream",
     "text": [
      "Enter the value of side1:1\n",
      "Enter the value of side2:2\n",
      "Enter the value of side3:3\n",
      "0.0\n"
     ]
    }
   ],
   "source": [
    "#1.1\n",
    "import sys\n",
    "a=int(input(\"Enter the value of side1:\"))\n",
    "b=int(input(\"Enter the value of side2:\"))\n",
    "c=int(input(\"Enter the value of side3:\"))\n",
    "class triangle():\n",
    "    def __init__(self,a,b,c):\n",
    "        self.a=a\n",
    "        self.b=b\n",
    "        self.c=c\n",
    "    def area(self):\n",
    "        s=(a+b+c)/2\n",
    "        area=(s*(s-a)*(s-b)*(s-c)) ** 0.5\n",
    "        return area\n",
    "    print(area((a,b,c)))"
   ]
  },
  {
   "cell_type": "code",
   "execution_count": 5,
   "metadata": {},
   "outputs": [
    {
     "name": "stdout",
     "output_type": "stream",
     "text": [
      "['proud', 'indian', 'citizen']\n"
     ]
    }
   ],
   "source": [
    "#1.2\n",
    "def filter_long_words(n, str):\n",
    "    word= []\n",
    "    List = str.split(\" \")\n",
    "    for x in List:\n",
    "        if len(x) > n:\n",
    "            word.append(x)\n",
    "    return word\n",
    "print(filter_long_words(3, \"We are proud to be an indian citizen\"))"
   ]
  },
  {
   "cell_type": "code",
   "execution_count": 6,
   "metadata": {},
   "outputs": [
    {
     "name": "stdout",
     "output_type": "stream",
     "text": [
      "[2, 4, 4, 4]\n"
     ]
    }
   ],
   "source": [
    "#2.1\n",
    "wordlist=[\"Be\",\"Safe\",\"Stay\",\"Home\"]\n",
    "def wordlength(wordlist):\n",
    "    return list(map(lambda x:len(x),wordlist))\n",
    "print (str(wordlength(wordlist)))"
   ]
  },
  {
   "cell_type": "code",
   "execution_count": 7,
   "metadata": {},
   "outputs": [],
   "source": [
    "#2.2\n",
    "def func (vowel):\n",
    "    Letter=['a','e','i','o','u']\n",
    "    if vowel in Letter[0:5]:\n",
    "        return True\n",
    "    else:\n",
    "        return False"
   ]
  },
  {
   "cell_type": "code",
   "execution_count": 8,
   "metadata": {},
   "outputs": [
    {
     "name": "stdout",
     "output_type": "stream",
     "text": [
      "False\n"
     ]
    }
   ],
   "source": [
    "print(func('g'))\n"
   ]
  },
  {
   "cell_type": "code",
   "execution_count": 9,
   "metadata": {},
   "outputs": [
    {
     "name": "stdout",
     "output_type": "stream",
     "text": [
      "True\n"
     ]
    }
   ],
   "source": [
    "print(func('u'))"
   ]
  },
  {
   "cell_type": "code",
   "execution_count": null,
   "metadata": {},
   "outputs": [],
   "source": []
  }
 ],
 "metadata": {
  "kernelspec": {
   "display_name": "Python 3",
   "language": "python",
   "name": "python3"
  },
  "language_info": {
   "codemirror_mode": {
    "name": "ipython",
    "version": 3
   },
   "file_extension": ".py",
   "mimetype": "text/x-python",
   "name": "python",
   "nbconvert_exporter": "python",
   "pygments_lexer": "ipython3",
   "version": "3.7.3"
  }
 },
 "nbformat": 4,
 "nbformat_minor": 2
}
